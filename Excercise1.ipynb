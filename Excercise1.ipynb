{
 "cells": [
  {
   "cell_type": "code",
   "execution_count": 1,
   "id": "b9ce076c-60b7-4fee-9adb-21c4f6219f8b",
   "metadata": {
    "tags": []
   },
   "outputs": [],
   "source": [
    "ice_cream_rating = 7\n",
    "sleeping_rating = 8\n"
   ]
  },
  {
   "cell_type": "code",
   "execution_count": 2,
   "id": "f645d41f-cffa-4ef9-bb7d-9c27b4404ab4",
   "metadata": {
    "tags": []
   },
   "outputs": [
    {
     "ename": "NameError",
     "evalue": "name 'Dawid' is not defined",
     "output_type": "error",
     "traceback": [
      "\u001b[1;31m---------------------------------------------------------------------------\u001b[0m",
      "\u001b[1;31mNameError\u001b[0m                                 Traceback (most recent call last)",
      "Cell \u001b[1;32mIn[2], line 1\u001b[0m\n\u001b[1;32m----> 1\u001b[0m first_name \u001b[38;5;241m=\u001b[39m Dawid\n\u001b[0;32m      2\u001b[0m last_name \u001b[38;5;241m=\u001b[39m Kowalski\n\u001b[0;32m      3\u001b[0m my_name \u001b[38;5;241m=\u001b[39m first_name \u001b[38;5;241m+\u001b[39m \u001b[38;5;124m'\u001b[39m\u001b[38;5;124m \u001b[39m\u001b[38;5;124m'\u001b[39m\u001b[38;5;241m+\u001b[39mlast_name\n",
      "\u001b[1;31mNameError\u001b[0m: name 'Dawid' is not defined"
     ]
    }
   ],
   "source": [
    "first_name = Dawid\n",
    "last_name = Kowalski\n",
    "my_name = first_name + ' '+last_name"
   ]
  },
  {
   "cell_type": "code",
   "execution_count": 3,
   "id": "ecb91d16-c353-4d29-a6b4-8a6b6b78a534",
   "metadata": {
    "tags": []
   },
   "outputs": [],
   "source": [
    "first_name = \"Dawid\"\n",
    "last_name = \"Kowalski\"\n",
    "my_name = first_name + ' '+last_name"
   ]
  },
  {
   "cell_type": "code",
   "execution_count": 4,
   "id": "d6006914-11d6-4ab2-9e6d-80b141393874",
   "metadata": {
    "tags": []
   },
   "outputs": [
    {
     "ename": "NameError",
     "evalue": "name 'mean' is not defined",
     "output_type": "error",
     "traceback": [
      "\u001b[1;31m---------------------------------------------------------------------------\u001b[0m",
      "\u001b[1;31mNameError\u001b[0m                                 Traceback (most recent call last)",
      "Cell \u001b[1;32mIn[4], line 1\u001b[0m\n\u001b[1;32m----> 1\u001b[0m hapiness_rating \u001b[38;5;241m=\u001b[39m mean(ice_cream_rating\u001b[38;5;241m+\u001b[39msleeping_rating)\n",
      "\u001b[1;31mNameError\u001b[0m: name 'mean' is not defined"
     ]
    }
   ],
   "source": [
    "hapiness_rating = mean(ice_cream_rating+sleeping_rating)"
   ]
  },
  {
   "cell_type": "code",
   "execution_count": 5,
   "id": "bbdcfdb1-1d9f-4235-9f1c-286956ef9f47",
   "metadata": {
    "tags": []
   },
   "outputs": [
    {
     "ename": "NameError",
     "evalue": "name 'mean' is not defined",
     "output_type": "error",
     "traceback": [
      "\u001b[1;31m---------------------------------------------------------------------------\u001b[0m",
      "\u001b[1;31mNameError\u001b[0m                                 Traceback (most recent call last)",
      "Cell \u001b[1;32mIn[5], line 2\u001b[0m\n\u001b[0;32m      1\u001b[0m \u001b[38;5;28;01mimport\u001b[39;00m \u001b[38;5;21;01mmath\u001b[39;00m\n\u001b[1;32m----> 2\u001b[0m hapiness_rating \u001b[38;5;241m=\u001b[39m mean(ice_cream_rating\u001b[38;5;241m+\u001b[39msleeping_rating)\n",
      "\u001b[1;31mNameError\u001b[0m: name 'mean' is not defined"
     ]
    }
   ],
   "source": [
    "import math\n",
    "hapiness_rating = mean(ice_cream_rating+sleeping_rating)"
   ]
  },
  {
   "cell_type": "code",
   "execution_count": 6,
   "id": "08845baf-b2fa-41ec-921e-4c4fe71caa1f",
   "metadata": {
    "tags": []
   },
   "outputs": [
    {
     "ename": "TypeError",
     "evalue": "'int' object is not iterable",
     "output_type": "error",
     "traceback": [
      "\u001b[1;31m---------------------------------------------------------------------------\u001b[0m",
      "\u001b[1;31mTypeError\u001b[0m                                 Traceback (most recent call last)",
      "Cell \u001b[1;32mIn[6], line 2\u001b[0m\n\u001b[0;32m      1\u001b[0m \u001b[38;5;28;01mimport\u001b[39;00m \u001b[38;5;21;01mstatistics\u001b[39;00m\n\u001b[1;32m----> 2\u001b[0m hapiness_rating \u001b[38;5;241m=\u001b[39m statistics\u001b[38;5;241m.\u001b[39mmean(ice_cream_rating\u001b[38;5;241m+\u001b[39msleeping_rating)\n",
      "File \u001b[1;32mD:\\anaconda\\Lib\\statistics.py:430\u001b[0m, in \u001b[0;36mmean\u001b[1;34m(data)\u001b[0m\n\u001b[0;32m    414\u001b[0m \u001b[38;5;28;01mdef\u001b[39;00m \u001b[38;5;21mmean\u001b[39m(data):\n\u001b[0;32m    415\u001b[0m \u001b[38;5;250m    \u001b[39m\u001b[38;5;124;03m\"\"\"Return the sample arithmetic mean of data.\u001b[39;00m\n\u001b[0;32m    416\u001b[0m \n\u001b[0;32m    417\u001b[0m \u001b[38;5;124;03m    >>> mean([1, 2, 3, 4, 4])\u001b[39;00m\n\u001b[1;32m   (...)\u001b[0m\n\u001b[0;32m    428\u001b[0m \u001b[38;5;124;03m    If ``data`` is empty, StatisticsError will be raised.\u001b[39;00m\n\u001b[0;32m    429\u001b[0m \u001b[38;5;124;03m    \"\"\"\u001b[39;00m\n\u001b[1;32m--> 430\u001b[0m     T, total, n \u001b[38;5;241m=\u001b[39m _sum(data)\n\u001b[0;32m    431\u001b[0m     \u001b[38;5;28;01mif\u001b[39;00m n \u001b[38;5;241m<\u001b[39m \u001b[38;5;241m1\u001b[39m:\n\u001b[0;32m    432\u001b[0m         \u001b[38;5;28;01mraise\u001b[39;00m StatisticsError(\u001b[38;5;124m'\u001b[39m\u001b[38;5;124mmean requires at least one data point\u001b[39m\u001b[38;5;124m'\u001b[39m)\n",
      "File \u001b[1;32mD:\\anaconda\\Lib\\statistics.py:191\u001b[0m, in \u001b[0;36m_sum\u001b[1;34m(data)\u001b[0m\n\u001b[0;32m    189\u001b[0m partials \u001b[38;5;241m=\u001b[39m {}\n\u001b[0;32m    190\u001b[0m partials_get \u001b[38;5;241m=\u001b[39m partials\u001b[38;5;241m.\u001b[39mget\n\u001b[1;32m--> 191\u001b[0m \u001b[38;5;28;01mfor\u001b[39;00m typ, values \u001b[38;5;129;01min\u001b[39;00m groupby(data, \u001b[38;5;28mtype\u001b[39m):\n\u001b[0;32m    192\u001b[0m     types_add(typ)\n\u001b[0;32m    193\u001b[0m     \u001b[38;5;28;01mfor\u001b[39;00m n, d \u001b[38;5;129;01min\u001b[39;00m \u001b[38;5;28mmap\u001b[39m(_exact_ratio, values):\n",
      "\u001b[1;31mTypeError\u001b[0m: 'int' object is not iterable"
     ]
    }
   ],
   "source": [
    "import statistics\n",
    "hapiness_rating = statistics.mean(ice_cream_rating+sleeping_rating)"
   ]
  },
  {
   "cell_type": "code",
   "execution_count": 9,
   "id": "f8025005-1f78-4712-8ca3-986e93e6337f",
   "metadata": {
    "tags": []
   },
   "outputs": [
    {
     "ename": "TypeError",
     "evalue": "'int' object is not iterable",
     "output_type": "error",
     "traceback": [
      "\u001b[1;31m---------------------------------------------------------------------------\u001b[0m",
      "\u001b[1;31mTypeError\u001b[0m                                 Traceback (most recent call last)",
      "Cell \u001b[1;32mIn[9], line 1\u001b[0m\n\u001b[1;32m----> 1\u001b[0m \u001b[38;5;28mprint\u001b[39m(statistics\u001b[38;5;241m.\u001b[39mmean(\u001b[38;5;241m4\u001b[39m\u001b[38;5;241m+\u001b[39m\u001b[38;5;241m6\u001b[39m))\n",
      "File \u001b[1;32mD:\\anaconda\\Lib\\statistics.py:430\u001b[0m, in \u001b[0;36mmean\u001b[1;34m(data)\u001b[0m\n\u001b[0;32m    414\u001b[0m \u001b[38;5;28;01mdef\u001b[39;00m \u001b[38;5;21mmean\u001b[39m(data):\n\u001b[0;32m    415\u001b[0m \u001b[38;5;250m    \u001b[39m\u001b[38;5;124;03m\"\"\"Return the sample arithmetic mean of data.\u001b[39;00m\n\u001b[0;32m    416\u001b[0m \n\u001b[0;32m    417\u001b[0m \u001b[38;5;124;03m    >>> mean([1, 2, 3, 4, 4])\u001b[39;00m\n\u001b[1;32m   (...)\u001b[0m\n\u001b[0;32m    428\u001b[0m \u001b[38;5;124;03m    If ``data`` is empty, StatisticsError will be raised.\u001b[39;00m\n\u001b[0;32m    429\u001b[0m \u001b[38;5;124;03m    \"\"\"\u001b[39;00m\n\u001b[1;32m--> 430\u001b[0m     T, total, n \u001b[38;5;241m=\u001b[39m _sum(data)\n\u001b[0;32m    431\u001b[0m     \u001b[38;5;28;01mif\u001b[39;00m n \u001b[38;5;241m<\u001b[39m \u001b[38;5;241m1\u001b[39m:\n\u001b[0;32m    432\u001b[0m         \u001b[38;5;28;01mraise\u001b[39;00m StatisticsError(\u001b[38;5;124m'\u001b[39m\u001b[38;5;124mmean requires at least one data point\u001b[39m\u001b[38;5;124m'\u001b[39m)\n",
      "File \u001b[1;32mD:\\anaconda\\Lib\\statistics.py:191\u001b[0m, in \u001b[0;36m_sum\u001b[1;34m(data)\u001b[0m\n\u001b[0;32m    189\u001b[0m partials \u001b[38;5;241m=\u001b[39m {}\n\u001b[0;32m    190\u001b[0m partials_get \u001b[38;5;241m=\u001b[39m partials\u001b[38;5;241m.\u001b[39mget\n\u001b[1;32m--> 191\u001b[0m \u001b[38;5;28;01mfor\u001b[39;00m typ, values \u001b[38;5;129;01min\u001b[39;00m groupby(data, \u001b[38;5;28mtype\u001b[39m):\n\u001b[0;32m    192\u001b[0m     types_add(typ)\n\u001b[0;32m    193\u001b[0m     \u001b[38;5;28;01mfor\u001b[39;00m n, d \u001b[38;5;129;01min\u001b[39;00m \u001b[38;5;28mmap\u001b[39m(_exact_ratio, values):\n",
      "\u001b[1;31mTypeError\u001b[0m: 'int' object is not iterable"
     ]
    }
   ],
   "source": [
    "print(statistics.mean(4+6))"
   ]
  },
  {
   "cell_type": "code",
   "execution_count": 10,
   "id": "ecd2ea29-897d-436b-9180-096ea909da3a",
   "metadata": {
    "tags": []
   },
   "outputs": [],
   "source": [
    "import math\n"
   ]
  },
  {
   "cell_type": "code",
   "execution_count": 11,
   "id": "1bc7380c-c011-476d-a67e-552d2bdda832",
   "metadata": {
    "tags": []
   },
   "outputs": [
    {
     "ename": "AttributeError",
     "evalue": "module 'math' has no attribute 'mean'",
     "output_type": "error",
     "traceback": [
      "\u001b[1;31m---------------------------------------------------------------------------\u001b[0m",
      "\u001b[1;31mAttributeError\u001b[0m                            Traceback (most recent call last)",
      "Cell \u001b[1;32mIn[11], line 1\u001b[0m\n\u001b[1;32m----> 1\u001b[0m \u001b[38;5;28mprint\u001b[39m(math\u001b[38;5;241m.\u001b[39mmean(\u001b[38;5;241m5\u001b[39m,\u001b[38;5;241m6\u001b[39m))\n",
      "\u001b[1;31mAttributeError\u001b[0m: module 'math' has no attribute 'mean'"
     ]
    }
   ],
   "source": [
    "print(math.mean(5,6))"
   ]
  },
  {
   "cell_type": "code",
   "execution_count": 12,
   "id": "1f44acdd-a944-4036-a34b-f31d6ebe0f71",
   "metadata": {
    "tags": []
   },
   "outputs": [
    {
     "ename": "TypeError",
     "evalue": "mean() takes 1 positional argument but 2 were given",
     "output_type": "error",
     "traceback": [
      "\u001b[1;31m---------------------------------------------------------------------------\u001b[0m",
      "\u001b[1;31mTypeError\u001b[0m                                 Traceback (most recent call last)",
      "Cell \u001b[1;32mIn[12], line 2\u001b[0m\n\u001b[0;32m      1\u001b[0m \u001b[38;5;28;01mimport\u001b[39;00m \u001b[38;5;21;01mstatistics\u001b[39;00m\n\u001b[1;32m----> 2\u001b[0m hapiness_rating \u001b[38;5;241m=\u001b[39m statistics\u001b[38;5;241m.\u001b[39mmean(ice_cream_rating,sleeping_rating)\n",
      "\u001b[1;31mTypeError\u001b[0m: mean() takes 1 positional argument but 2 were given"
     ]
    }
   ],
   "source": [
    "import statistics\n",
    "hapiness_rating = statistics.mean(ice_cream_rating,sleeping_rating)"
   ]
  },
  {
   "cell_type": "code",
   "execution_count": 13,
   "id": "1ad14e56-7014-4e48-9188-2bb764addb50",
   "metadata": {
    "tags": []
   },
   "outputs": [],
   "source": [
    "import statistics\n",
    "hapiness_rating = statistics.mean([ice_cream_rating,sleeping_rating])"
   ]
  },
  {
   "cell_type": "code",
   "execution_count": 14,
   "id": "150f78f8-7071-4b37-8cfc-ae1a7c04bb07",
   "metadata": {
    "tags": []
   },
   "outputs": [
    {
     "name": "stdout",
     "output_type": "stream",
     "text": [
      "7.5\n"
     ]
    }
   ],
   "source": [
    "print(hapiness_rating)"
   ]
  },
  {
   "cell_type": "code",
   "execution_count": 17,
   "id": "ddcf5eb7-5205-46cf-a979-c18b0ec326ae",
   "metadata": {
    "tags": []
   },
   "outputs": [
    {
     "name": "stdout",
     "output_type": "stream",
     "text": [
      "6.5\n"
     ]
    }
   ],
   "source": [
    "print(statistics.mean([5,6,7,8]))"
   ]
  },
  {
   "cell_type": "markdown",
   "id": "675208a3-cc65-4d2c-a0c5-360abc990cd8",
   "metadata": {},
   "source": []
  },
  {
   "cell_type": "code",
   "execution_count": 30,
   "id": "c3967e93-fcde-4ac4-91bf-3c2da30902a1",
   "metadata": {
    "tags": []
   },
   "outputs": [
    {
     "name": "stdout",
     "output_type": "stream",
     "text": [
      "My name is Dawid and I give eating ice cream a score of 7 out of 10\n",
      " I am Dawid Kowalski and my sleeping enjoyment rating is 810!\n",
      " Based on the factors above, my hapiness rating is 7.5out of 10, or 85%!\n"
     ]
    }
   ],
   "source": [
    "tekst = 'My name is ' +first_name+' and I give eating ice cream a score of '+ str(ice_cream_rating)+' out of 10\\n I am '+my_name+' and my sleeping enjoyment rating is ' +str(sleeping_rating)+'10!\\n Based on the factors above, my hapiness rating is '+str(hapiness_rating)+'out of 10, or 85%!'\n",
    "print(tekst)"
   ]
  },
  {
   "cell_type": "code",
   "execution_count": null,
   "id": "2ad2bae6-d10d-43cd-8b52-24865cc2e26b",
   "metadata": {},
   "outputs": [],
   "source": []
  }
 ],
 "metadata": {
  "kernelspec": {
   "display_name": "Python 3 (ipykernel)",
   "language": "python",
   "name": "python3"
  },
  "language_info": {
   "codemirror_mode": {
    "name": "ipython",
    "version": 3
   },
   "file_extension": ".py",
   "mimetype": "text/x-python",
   "name": "python",
   "nbconvert_exporter": "python",
   "pygments_lexer": "ipython3",
   "version": "3.11.5"
  }
 },
 "nbformat": 4,
 "nbformat_minor": 5
}
